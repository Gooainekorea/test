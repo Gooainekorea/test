{
  "nbformat": 4,
  "nbformat_minor": 0,
  "metadata": {
    "colab": {
      "provenance": [],
      "authorship_tag": "ABX9TyNOQfeAIGpqidBZx4ASYTYT",
      "include_colab_link": true
    },
    "kernelspec": {
      "name": "python3",
      "display_name": "Python 3"
    },
    "language_info": {
      "name": "python"
    }
  },
  "cells": [
    {
      "cell_type": "markdown",
      "metadata": {
        "id": "view-in-github",
        "colab_type": "text"
      },
      "source": [
        "<a href=\"https://colab.research.google.com/github/Gooainekorea/test/blob/master/Rock_Paper_Scissor.ipynb\" target=\"_parent\"><img src=\"https://colab.research.google.com/assets/colab-badge.svg\" alt=\"Open In Colab\"/></a>"
      ]
    },
    {
      "cell_type": "code",
      "source": [
        "!pip install gradio tensorflow==2.12.0 kagglehub\n",
        "\n",
        "import gradio as gr\n",
        "import tensorflow as tf\n",
        "import numpy as np\n",
        "from keras.models import load_model\n",
        "from PIL import Image, ImageOps\n",
        "import kagglehub\n",
        "import os\n",
        "\n",
        "# Kaggle 데이터셋 다운로드\n",
        "dataset_path = kagglehub.dataset_download(\"sanikamal/rock-paper-scissors-dataset\")\n",
        "print(\"Path to dataset files:\", dataset_path)\n",
        "\n",
        "# 모델 파일 경로 설정 (사용자 환경에 맞게 수정 필요)\n",
        "model_path = \"/content/sample_data/keras_model.h5\"\n",
        "labels_path = \"/content/sample_data/labels.txt\"\n",
        "\n",
        "# 모델 로드\n",
        "try:\n",
        "    model = load_model(model_path, compile=False)\n",
        "except Exception as e:\n",
        "    print(f\"모델 로딩 중 오류 발생: {e}\")\n",
        "    exit()\n",
        "\n",
        "# 클래스 레이블 로드\n",
        "try:\n",
        "    with open(labels_path, \"r\") as file:\n",
        "        class_names = [line.strip() for line in file.readlines()]\n",
        "except FileNotFoundError:\n",
        "    print(\"labels.txt 파일을 찾을 수 없습니다.\")\n",
        "    exit()\n",
        "\n",
        "# 예측 함수\n",
        "def predict_rps(image):\n",
        "    image = image.resize((224, 224))  # 모델 입력 크기 조정\n",
        "    image = np.array(image) / 127.5 - 1  # 정규화\n",
        "    image = np.expand_dims(image, axis=0)  # 배치 차원 추가\n",
        "\n",
        "    predictions = model.predict(image)  # 예측 수행\n",
        "    predicted_class = np.argmax(predictions)  # 가장 높은 확률의 클래스 선택\n",
        "    confidence = predictions[0][predicted_class]  # 해당 클래스의 확률\n",
        "\n",
        "    return f\"{class_names[predicted_class]} (확률: {confidence:.2%})\"\n",
        "\n",
        "# Gradio 인터페이스 설정\n",
        "interface = gr.Interface(\n",
        "    fn=predict_rps,\n",
        "    inputs=gr.Image(type=\"pil\"),\n",
        "    outputs=\"text\",\n",
        "    title=\"가위바위보 인식기\",\n",
        "    description=\"이미지를 업로드하면 가위, 바위, 보 중 하나를 예측합니다.\",\n",
        ")\n",
        "\n",
        "# 실행\n",
        "if __name__ == \"__main__\":\n",
        "    interface.launch()\n"
      ],
      "metadata": {
        "id": "VqURvsIG7-_J"
      },
      "execution_count": null,
      "outputs": []
    }
  ]
}